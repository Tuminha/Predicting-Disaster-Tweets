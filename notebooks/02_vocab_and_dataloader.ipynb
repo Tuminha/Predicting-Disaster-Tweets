{
  "cells": [
    {
      "cell_type": "markdown",
      "metadata": {},
      "source": [
        "# 02 - Vocabulary Building and Data Loading\n",
        "\n",
        "## Learning Objectives\n",
        "- Build vocabulary from cleaned text data\n",
        "- Create efficient PyTorch data loaders\n",
        "- Implement text-to-sequence conversion\n",
        "- Handle variable-length sequences\n",
        "\n",
        "## Phase 1: PyTorch Fundamentals 🧠\n",
        "*Build everything from scratch to understand the foundations*\n",
        "\n",
        "## Phase 2: Transformers Enhancement 🚀\n",
        "*Enhance with modern NLP tools after mastering fundamentals*\n",
        "\n",
        "---\n",
        "\n",
        "## TODO 1: Build Vocabulary\n",
        "\n",
        "**Goal**: Create word-to-index mapping from cleaned text\n",
        "\n",
        "**Steps**:\n",
        "1. Load cleaned text data from `data/interim/`\n",
        "2. Tokenize text into words\n",
        "3. Build vocabulary with special tokens:\n",
        "   - `<PAD>` for padding (index 0)\n",
        "   - `<UNK>` for unknown words (index 1)\n",
        "   - `<START>` and `<END>` tokens (optional)\n",
        "4. Calculate vocabulary statistics\n",
        "\n",
        "**Hint**: Use `Counter` to count word frequencies, set minimum frequency threshold\n",
        "\n",
        "**Expected Output**: Word-to-index mapping and vocabulary size\n"
      ]
    }
  ],
  "metadata": {
    "language_info": {
      "name": "python"
    }
  },
  "nbformat": 4,
  "nbformat_minor": 2
}
