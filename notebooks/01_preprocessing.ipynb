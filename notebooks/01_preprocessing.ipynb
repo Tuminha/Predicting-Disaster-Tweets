{
  "cells": [
    {
      "cell_type": "markdown",
      "metadata": {},
      "source": [
        "# 01 - Text Preprocessing and Cleaning\n",
        "\n",
        "## Learning Objectives\n",
        "- Master text preprocessing techniques for NLP\n",
        "- Understand the impact of different cleaning strategies\n",
        "- Build a robust preprocessing pipeline\n",
        "- Prepare data for tokenization and modeling\n",
        "\n",
        "## Phase 1: PyTorch Fundamentals 🧠\n",
        "*Build everything from scratch to understand the foundations*\n",
        "\n",
        "## Phase 2: Transformers Enhancement 🚀\n",
        "*Enhance with modern NLP tools after mastering fundamentals*\n",
        "\n",
        "---\n",
        "\n",
        "## Preprocessing Strategy\n",
        "\n",
        "Based on your exploration findings, implement a comprehensive text cleaning pipeline that handles:\n",
        "- Special characters and URLs\n",
        "- Case normalization\n",
        "- Punctuation handling\n",
        "- Stopword removal (optional)\n",
        "- Custom cleaning rules for social media text\n"
      ]
    },
    {
      "cell_type": "markdown",
      "metadata": {},
      "source": [
        "## TODO 1: Basic Text Cleaning Functions\n",
        "\n",
        "**Goal**: Create reusable text cleaning functions\n",
        "\n",
        "**Steps**:\n",
        "1. Implement URL removal function:\n",
        "   - Remove http/https URLs\n",
        "   - Handle shortened URLs\n",
        "2. Implement username/hashtag handling:\n",
        "   - Decide whether to remove or keep @mentions and #hashtags\n",
        "3. Implement special character cleaning:\n",
        "   - Handle emojis (remove or convert to text)\n",
        "   - Clean punctuation\n",
        "   - Handle repeated characters (e.g., \"soooooo\" → \"so\")\n",
        "\n",
        "**Hint**: Use `re` module for regex patterns, consider different strategies for each element\n",
        "\n",
        "**Expected Output**: Clean, reusable functions for text preprocessing\n"
      ]
    },
    {
      "cell_type": "code",
      "execution_count": null,
      "metadata": {},
      "outputs": [],
      "source": [
        "# TODO 1: Basic text cleaning functions\n",
        "# Your implementation here\n"
      ]
    },
    {
      "cell_type": "markdown",
      "metadata": {},
      "source": [
        "## TODO 2: Text Normalization\n",
        "\n",
        "**Goal**: Standardize text format for consistent processing\n",
        "\n",
        "**Steps**:\n",
        "1. Implement case normalization:\n",
        "   - Decide on lowercasing strategy\n",
        "   - Handle acronyms and proper nouns\n",
        "2. Implement whitespace normalization:\n",
        "   - Remove extra spaces\n",
        "   - Handle line breaks and tabs\n",
        "3. Implement number handling:\n",
        "   - Replace numbers with tokens or remove\n",
        "   - Handle dates and times\n",
        "\n",
        "**Hint**: Consider the impact on meaning - some information might be lost in normalization\n",
        "\n",
        "**Expected Output**: Consistent text format across the dataset\n"
      ]
    },
    {
      "cell_type": "code",
      "execution_count": null,
      "metadata": {},
      "outputs": [],
      "source": [
        "# TODO 2: Text normalization\n",
        "# Your implementation here\n"
      ]
    },
    {
      "cell_type": "markdown",
      "metadata": {},
      "source": [
        "## TODO 3: Stopword and Noise Removal\n",
        "\n",
        "**Goal**: Remove common words and noise that don't contribute to classification\n",
        "\n",
        "**Steps**:\n",
        "1. Implement stopword removal:\n",
        "   - Use NLTK or spaCy stopword lists\n",
        "   - Consider domain-specific stopwords\n",
        "   - Evaluate impact on disaster detection\n",
        "2. Implement noise removal:\n",
        "   - Remove very short words (< 2 characters)\n",
        "   - Remove very long words (potential typos)\n",
        "   - Handle non-alphabetic sequences\n",
        "\n",
        "**Hint**: Be careful with stopwords - some might be important for disaster detection (e.g., \"fire\", \"flood\")\n",
        "\n",
        "**Expected Output**: Cleaned text with reduced noise\n"
      ]
    },
    {
      "cell_type": "code",
      "execution_count": null,
      "metadata": {},
      "outputs": [],
      "source": [
        "# TODO 3: Stopword and noise removal\n",
        "# Your implementation here\n"
      ]
    },
    {
      "cell_type": "markdown",
      "metadata": {},
      "source": [
        "## TODO 4: Complete Preprocessing Pipeline\n",
        "\n",
        "**Goal**: Combine all cleaning steps into a comprehensive pipeline\n",
        "\n",
        "**Steps**:\n",
        "1. Create a main preprocessing function that:\n",
        "   - Applies all cleaning steps in order\n",
        "   - Handles edge cases (empty strings, very short text)\n",
        "   - Returns cleaned text\n",
        "2. Test the pipeline on sample data:\n",
        "   - Compare before/after examples\n",
        "   - Measure processing time\n",
        "   - Check for any issues\n",
        "\n",
        "**Hint**: Make the pipeline configurable with parameters for different cleaning strategies\n",
        "\n",
        "**Expected Output**: Robust preprocessing pipeline ready for the entire dataset\n"
      ]
    },
    {
      "cell_type": "code",
      "execution_count": null,
      "metadata": {},
      "outputs": [],
      "source": [
        "# TODO 4: Complete preprocessing pipeline\n",
        "# Your implementation here\n"
      ]
    },
    {
      "cell_type": "markdown",
      "metadata": {},
      "source": [
        "## TODO 5: Apply Preprocessing and Save Results\n",
        "\n",
        "**Goal**: Process the entire dataset and save cleaned data\n",
        "\n",
        "**Steps**:\n",
        "1. Apply preprocessing pipeline to training data\n",
        "2. Apply same pipeline to test data\n",
        "3. Save cleaned data to `data/interim/` folder\n",
        "4. Compare before/after statistics\n",
        "5. Document any data lost during preprocessing\n",
        "\n",
        "**Expected Output**: Clean datasets ready for tokenization\n",
        "\n",
        "---\n",
        "\n",
        "## Phase 2: Transformers Enhancement\n",
        "\n",
        "*After completing Phase 1, consider these enhancements:*\n",
        "\n",
        "- Use HuggingFace tokenizers for consistent preprocessing\n",
        "- Leverage pre-trained tokenization (BERT, RoBERTa)\n",
        "- Compare custom preprocessing vs. transformer tokenization\n",
        "- Analyze preprocessing impact on different model architectures\n"
      ]
    },
    {
      "cell_type": "code",
      "execution_count": null,
      "metadata": {},
      "outputs": [],
      "source": [
        "# TODO 5: Apply preprocessing and save results\n",
        "# Your implementation here\n"
      ]
    },
    {
      "cell_type": "markdown",
      "metadata": {},
      "source": []
    }
  ],
  "metadata": {
    "language_info": {
      "name": "python"
    }
  },
  "nbformat": 4,
  "nbformat_minor": 2
}
